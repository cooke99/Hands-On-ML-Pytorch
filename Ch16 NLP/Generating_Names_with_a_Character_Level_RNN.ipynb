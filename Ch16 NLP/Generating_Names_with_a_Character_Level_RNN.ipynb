{
  "nbformat": 4,
  "nbformat_minor": 0,
  "metadata": {
    "colab": {
      "provenance": [],
      "gpuType": "V100"
    },
    "kernelspec": {
      "name": "python3",
      "display_name": "Python 3"
    },
    "language_info": {
      "name": "python"
    },
    "accelerator": "GPU"
  },
  "cells": [
    {
      "cell_type": "markdown",
      "source": [
        "https://pytorch.org/tutorials/intermediate/char_rnn_generation_tutorial.html"
      ],
      "metadata": {
        "id": "1ugSIMVWSl9t"
      }
    },
    {
      "cell_type": "code",
      "execution_count": 1,
      "metadata": {
        "colab": {
          "base_uri": "https://localhost:8080/"
        },
        "id": "NPENX6A3SfMq",
        "outputId": "94a6fafb-35f6-4682-d9ac-9e8c5e2144ac"
      },
      "outputs": [
        {
          "output_type": "stream",
          "name": "stdout",
          "text": [
            "Archive:  data2.zip\n",
            "replace data/eng-fra.txt? [y]es, [n]o, [A]ll, [N]one, [r]ename: A\n",
            "  inflating: data/eng-fra.txt        \n",
            "  inflating: data/names/Arabic.txt   \n",
            "  inflating: data/names/Chinese.txt  \n",
            "  inflating: data/names/Czech.txt    \n",
            "  inflating: data/names/Dutch.txt    \n",
            "  inflating: data/names/English.txt  \n",
            "  inflating: data/names/French.txt   \n",
            "  inflating: data/names/German.txt   \n",
            "  inflating: data/names/Greek.txt    \n",
            "  inflating: data/names/Irish.txt    \n",
            "  inflating: data/names/Italian.txt  \n",
            "  inflating: data/names/Japanese.txt  \n",
            "  inflating: data/names/Korean.txt   \n",
            "  inflating: data/names/Polish.txt   \n",
            "  inflating: data/names/Portuguese.txt  \n",
            "  inflating: data/names/Russian.txt  \n",
            "  inflating: data/names/Scottish.txt  \n",
            "  inflating: data/names/Spanish.txt  \n",
            "  inflating: data/names/Vietnamese.txt  \n"
          ]
        }
      ],
      "source": [
        "!unzip data2.zip"
      ]
    },
    {
      "cell_type": "code",
      "source": [
        "from io import open\n",
        "import glob\n",
        "import os\n",
        "import unicodedata\n",
        "import string"
      ],
      "metadata": {
        "id": "DCsOZJixTu2S"
      },
      "execution_count": 2,
      "outputs": []
    },
    {
      "cell_type": "code",
      "source": [
        "all_letters = string.ascii_letters + \" .,;'-\"\n",
        "n_letters = len(all_letters) + 1 # Plus EOS marker"
      ],
      "metadata": {
        "id": "d-JkaLavT6kb"
      },
      "execution_count": 3,
      "outputs": []
    },
    {
      "cell_type": "code",
      "source": [
        "def find_files(path: str) -> list[str]:\n",
        "    return glob.glob(path)"
      ],
      "metadata": {
        "id": "Pb3YqWqOUKH5"
      },
      "execution_count": 4,
      "outputs": []
    },
    {
      "cell_type": "code",
      "source": [
        "def unicode_to_ascii(s: str) -> list[str]:\n",
        "    return ''.join(\n",
        "        c for c in unicodedata.normalize('NFD',s)\n",
        "        if unicodedata.category(c) != 'Mn'\n",
        "        and c in all_letters\n",
        "    )"
      ],
      "metadata": {
        "id": "bClHVzyTUTm8"
      },
      "execution_count": 5,
      "outputs": []
    },
    {
      "cell_type": "code",
      "source": [
        "def read_lines(filename: str) -> list[str]:\n",
        "    with open(filename, encoding = 'utf-8') as some_file:\n",
        "        return[unicode_to_ascii(line.strip()) for line in some_file]"
      ],
      "metadata": {
        "id": "pEAKuCkmUs2E"
      },
      "execution_count": 6,
      "outputs": []
    },
    {
      "cell_type": "code",
      "source": [
        "category_lines = {}\n",
        "all_categories = []\n",
        "\n",
        "for fname in find_files('data/names/*.txt'):\n",
        "    cat = os.path.splitext(os.path.basename(fname))[0]\n",
        "    all_categories.append(cat)\n",
        "    lines = read_lines(fname)\n",
        "    category_lines[cat] = lines\n",
        "\n",
        "n_categories = len(all_categories)\n",
        "\n",
        "if (n_categories == 0):\n",
        "    raise RuntimeError('Data not found')\n",
        "\n",
        "print(f'# categories: {n_categories} {all_categories}')\n",
        "print(unicode_to_ascii(\"O'Néàl\"))"
      ],
      "metadata": {
        "colab": {
          "base_uri": "https://localhost:8080/"
        },
        "id": "kBqHjKp2WFRo",
        "outputId": "e6466f7f-69d9-427f-93e3-6d2a9b4f6e1c"
      },
      "execution_count": 7,
      "outputs": [
        {
          "output_type": "stream",
          "name": "stdout",
          "text": [
            "# categories: 18 ['Irish', 'Dutch', 'Vietnamese', 'Korean', 'Czech', 'German', 'Polish', 'Japanese', 'Scottish', 'Chinese', 'French', 'Italian', 'Arabic', 'Greek', 'Spanish', 'Russian', 'English', 'Portuguese']\n",
            "O'Neal\n"
          ]
        }
      ]
    },
    {
      "cell_type": "code",
      "source": [
        "import torch\n",
        "import torch.nn as nn"
      ],
      "metadata": {
        "id": "PBAss65fXMWp"
      },
      "execution_count": 8,
      "outputs": []
    },
    {
      "cell_type": "code",
      "source": [
        "class RNN(nn.Module):\n",
        "    def __init__(self, input_size: int, hidden_size: int, output_size: int):\n",
        "        super(RNN, self).__init__()\n",
        "        self.hidden_size = hidden_size\n",
        "        self.flatten = nn.Flatten()\n",
        "        self.i2h = nn.Linear(n_categories + input_size + hidden_size, hidden_size)\n",
        "        self.i2o = nn.Linear(n_categories + input_size + hidden_size, output_size)\n",
        "        self.o2o = nn.Linear(hidden_size + output_size, output_size)\n",
        "        self.dropout = nn.Dropout(0.1)\n",
        "        self.softmax = nn.LogSoftmax(dim = 1)\n",
        "\n",
        "    def forward(self, category: torch.Tensor, input_: torch.Tensor, hidden: torch.Tensor):\n",
        "        input_combined = torch.cat((category, input_, hidden), 1)\n",
        "        #input_combined = self.flatten(input_combined)\n",
        "        hidden = self.i2h(input_combined)\n",
        "        output = self.i2o(input_combined)\n",
        "        output_combined = torch.cat((hidden, output), 1)\n",
        "        output = self.o2o(output_combined)\n",
        "        output = self.dropout(output)\n",
        "        output = self.softmax(output)\n",
        "\n",
        "        return output, hidden\n",
        "\n",
        "    def init_hidden(self):\n",
        "        return torch.zeros(1, self.hidden_size)\n"
      ],
      "metadata": {
        "id": "hMtONWoTYpMy"
      },
      "execution_count": 9,
      "outputs": []
    },
    {
      "cell_type": "code",
      "source": [
        "import random\n",
        "\n",
        "def random_choice(l: list):\n",
        "    return l[random.randint(0,len(l)-1)]\n",
        "\n",
        "def random_training_pair():\n",
        "    cat_ = random_choice(all_categories)\n",
        "    line = random_choice(category_lines[cat_])\n",
        "    return cat_, line"
      ],
      "metadata": {
        "id": "39jc_N7CckmW"
      },
      "execution_count": 10,
      "outputs": []
    },
    {
      "cell_type": "code",
      "source": [
        "def category_tensor(category: str):\n",
        "    li = all_categories.index(category)\n",
        "    tensor = torch.zeros(1, n_categories)\n",
        "    tensor[0][li] = 1\n",
        "    return tensor"
      ],
      "metadata": {
        "id": "rkE1mp5qddFA"
      },
      "execution_count": 11,
      "outputs": []
    },
    {
      "cell_type": "code",
      "source": [
        "def input_tensor(line: str):\n",
        "    tensor = torch.zeros(len(line), 1, n_letters)\n",
        "\n",
        "    for li in range(len(line)):\n",
        "        letter = line[li]\n",
        "        tensor[li][0][all_letters.find(letter)] = 1\n",
        "\n",
        "    return tensor"
      ],
      "metadata": {
        "id": "C-bFtPBZgY_2"
      },
      "execution_count": 12,
      "outputs": []
    },
    {
      "cell_type": "code",
      "source": [
        "def target_tensor(line: str):\n",
        "    letter_indexes = [all_letters.find(line[li]) for li in range(1, len(line))]\n",
        "    letter_indexes.append(n_letters - 1) # EOS\n",
        "    return torch.LongTensor(letter_indexes)"
      ],
      "metadata": {
        "id": "FEnTxolzhDVq"
      },
      "execution_count": 13,
      "outputs": []
    },
    {
      "cell_type": "code",
      "source": [
        "def random_training_example():\n",
        "    _cat, _line = random_training_pair()\n",
        "    cat_tensor = category_tensor(_cat)\n",
        "    input_line_tensor = input_tensor(_line)\n",
        "    target_line_tensor = target_tensor(_line)\n",
        "\n",
        "    return cat_tensor, input_line_tensor, target_line_tensor"
      ],
      "metadata": {
        "id": "x6RM7aXsiGh7"
      },
      "execution_count": 14,
      "outputs": []
    },
    {
      "cell_type": "code",
      "source": [
        "cat_temp,input_temp, output_temp = random_training_example()\n",
        "print(cat_temp.shape)\n",
        "print(input_temp.shape)\n",
        "print(output_temp.shape)"
      ],
      "metadata": {
        "colab": {
          "base_uri": "https://localhost:8080/"
        },
        "id": "NHcZgnQQnAx9",
        "outputId": "0b0c1cc1-b6a6-42a1-bcdc-9b55df6814b0"
      },
      "execution_count": 15,
      "outputs": [
        {
          "output_type": "stream",
          "name": "stdout",
          "text": [
            "torch.Size([1, 18])\n",
            "torch.Size([7, 1, 59])\n",
            "torch.Size([7])\n"
          ]
        }
      ]
    },
    {
      "cell_type": "code",
      "source": [
        "print(output_temp)"
      ],
      "metadata": {
        "colab": {
          "base_uri": "https://localhost:8080/"
        },
        "id": "TswY1w6nnIuq",
        "outputId": "f578c9b1-ce4f-4096-92e6-e02fd2486bcb"
      },
      "execution_count": 16,
      "outputs": [
        {
          "output_type": "stream",
          "name": "stdout",
          "text": [
            "tensor([14,  8, 11,  4,  0, 13, 58])\n"
          ]
        }
      ]
    },
    {
      "cell_type": "code",
      "source": [
        "\n",
        "\n",
        "def train(category_tensor, input_line_tensor, target_line_tensor):\n",
        "    target_line_tensor.unsqueeze_(-1)\n",
        "    hidden = rnn.init_hidden().to('cuda')\n",
        "    rnn.zero_grad()\n",
        "\n",
        "    loss = torch.Tensor([0]).to('cuda')\n",
        "    for i in range(input_line_tensor.size(0)):\n",
        "\n",
        "        output, hidden = rnn(category_tensor, input_line_tensor[i], hidden)\n",
        "        l = criterion(output, target_line_tensor[i])\n",
        "        loss += l\n",
        "    loss.backward()\n",
        "\n",
        "    for p in rnn.parameters():\n",
        "        p.data.add_(p.grad.data, alpha = -lr)\n",
        "\n",
        "    return output, loss.item()/int(input_line_tensor.size(0))"
      ],
      "metadata": {
        "id": "tptWfHWAn-E0"
      },
      "execution_count": 30,
      "outputs": []
    },
    {
      "cell_type": "code",
      "source": [
        "import time\n",
        "import math\n",
        "\n",
        "def timeSince(since):\n",
        "    now = time.time()\n",
        "    s = now - since\n",
        "    m = math.floor(s / 60)\n",
        "    s -= m * 60\n",
        "    return '%dm %ds' % (m, s)"
      ],
      "metadata": {
        "id": "DE7fmJIDqBBn"
      },
      "execution_count": 31,
      "outputs": []
    },
    {
      "cell_type": "code",
      "source": [
        "n_iters = 100000\n",
        "print_every = 1000\n",
        "plot_every = 500\n",
        "all_losses = []\n",
        "total_loss = 0\n",
        "criterion = nn.NLLLoss()\n",
        "lr = 3e-4\n",
        "rnn = RNN(n_letters, 128, n_letters).to('cuda')\n",
        "\n",
        "start = time.time()\n",
        "\n",
        "for iter in range(1, n_iters + 1):\n",
        "    cat_tensor, in_tensor, tar_tensor = random_training_example()\n",
        "    output, loss = train(cat_tensor.to('cuda'), in_tensor.to('cuda'), tar_tensor.to('cuda'))\n",
        "    total_loss += loss\n",
        "\n",
        "    if iter % print_every == 0:\n",
        "        print('%s (%d %d%%) %.4f' % (timeSince(start), iter, iter / n_iters * 100, loss))\n",
        "\n",
        "    if iter % plot_every == 0:\n",
        "        all_losses.append(total_loss / plot_every)\n",
        "        total_loss = 0"
      ],
      "metadata": {
        "colab": {
          "base_uri": "https://localhost:8080/"
        },
        "id": "AmDARvqTqkhJ",
        "outputId": "da17a555-189b-4786-aaca-1e9ba03c0629"
      },
      "execution_count": 32,
      "outputs": [
        {
          "output_type": "stream",
          "name": "stdout",
          "text": [
            "0m 6s (1000 1%) 3.8775\n",
            "0m 11s (2000 2%) 2.7982\n",
            "0m 17s (3000 3%) 3.7893\n",
            "0m 22s (4000 4%) 3.3884\n",
            "0m 28s (5000 5%) 3.5511\n",
            "0m 33s (6000 6%) 3.0402\n",
            "0m 39s (7000 7%) 3.6488\n",
            "0m 44s (8000 8%) 3.0991\n",
            "0m 50s (9000 9%) 3.0355\n",
            "0m 55s (10000 10%) 2.7439\n",
            "1m 0s (11000 11%) 3.1781\n",
            "1m 6s (12000 12%) 2.9726\n",
            "1m 12s (13000 13%) 2.6083\n",
            "1m 17s (14000 14%) 3.2895\n",
            "1m 22s (15000 15%) 2.2413\n",
            "1m 28s (16000 16%) 3.1726\n",
            "1m 33s (17000 17%) 2.6859\n",
            "1m 39s (18000 18%) 2.8301\n",
            "1m 44s (19000 19%) 2.5875\n",
            "1m 50s (20000 20%) 2.0607\n",
            "1m 55s (21000 21%) 2.1514\n",
            "2m 1s (22000 22%) 2.6433\n",
            "2m 6s (23000 23%) 2.5532\n",
            "2m 13s (24000 24%) 3.2694\n",
            "2m 18s (25000 25%) 3.5863\n",
            "2m 23s (26000 26%) 2.8102\n",
            "2m 29s (27000 27%) 3.0266\n",
            "2m 34s (28000 28%) 2.2171\n",
            "2m 40s (29000 28%) 3.4831\n",
            "2m 45s (30000 30%) 3.0220\n",
            "2m 50s (31000 31%) 2.6699\n",
            "2m 56s (32000 32%) 2.7794\n",
            "3m 1s (33000 33%) 2.6660\n",
            "3m 7s (34000 34%) 2.3064\n",
            "3m 12s (35000 35%) 3.0500\n",
            "3m 18s (36000 36%) 2.1584\n",
            "3m 23s (37000 37%) 2.9253\n",
            "3m 28s (38000 38%) 2.9519\n",
            "3m 34s (39000 39%) 2.8708\n",
            "3m 39s (40000 40%) 2.5267\n",
            "3m 45s (41000 41%) 2.6575\n",
            "3m 50s (42000 42%) 2.3752\n",
            "3m 55s (43000 43%) 2.9442\n",
            "4m 1s (44000 44%) 3.0041\n",
            "4m 6s (45000 45%) 2.3463\n",
            "4m 12s (46000 46%) 1.9750\n",
            "4m 17s (47000 47%) 2.2801\n",
            "4m 22s (48000 48%) 2.9081\n",
            "4m 28s (49000 49%) 3.4710\n",
            "4m 33s (50000 50%) 2.3312\n",
            "4m 39s (51000 51%) 2.6123\n",
            "4m 44s (52000 52%) 2.0673\n",
            "4m 50s (53000 53%) 3.3151\n",
            "4m 55s (54000 54%) 3.2388\n",
            "5m 0s (55000 55%) 2.5941\n",
            "5m 6s (56000 56%) 2.2918\n",
            "5m 11s (57000 56%) 2.2342\n",
            "5m 17s (58000 57%) 2.9248\n",
            "5m 23s (59000 59%) 2.5108\n",
            "5m 29s (60000 60%) 1.9540\n",
            "5m 34s (61000 61%) 2.8519\n",
            "5m 39s (62000 62%) 2.4705\n",
            "5m 45s (63000 63%) 2.1757\n",
            "5m 50s (64000 64%) 3.3699\n",
            "5m 55s (65000 65%) 2.3581\n",
            "6m 0s (66000 66%) 2.5469\n",
            "6m 6s (67000 67%) 2.9219\n",
            "6m 11s (68000 68%) 1.8498\n",
            "6m 17s (69000 69%) 2.2294\n",
            "6m 23s (70000 70%) 2.8550\n",
            "6m 28s (71000 71%) 2.4291\n",
            "6m 33s (72000 72%) 2.3466\n",
            "6m 38s (73000 73%) 3.2281\n",
            "6m 44s (74000 74%) 3.2521\n",
            "6m 49s (75000 75%) 2.2100\n",
            "6m 54s (76000 76%) 1.8968\n",
            "7m 0s (77000 77%) 2.8525\n",
            "7m 5s (78000 78%) 3.3324\n",
            "7m 11s (79000 79%) 1.4922\n",
            "7m 16s (80000 80%) 3.5851\n",
            "7m 21s (81000 81%) 3.0229\n",
            "7m 27s (82000 82%) 2.4198\n",
            "7m 32s (83000 83%) 2.3860\n",
            "7m 38s (84000 84%) 2.4852\n",
            "7m 43s (85000 85%) 2.1319\n",
            "7m 48s (86000 86%) 1.1023\n",
            "7m 54s (87000 87%) 2.6052\n",
            "7m 59s (88000 88%) 2.3830\n",
            "8m 5s (89000 89%) 2.6082\n",
            "8m 10s (90000 90%) 2.8578\n",
            "8m 16s (91000 91%) 2.2904\n",
            "8m 21s (92000 92%) 1.2784\n",
            "8m 26s (93000 93%) 2.1112\n",
            "8m 32s (94000 94%) 2.2888\n",
            "8m 38s (95000 95%) 2.3681\n",
            "8m 44s (96000 96%) 2.3257\n",
            "8m 49s (97000 97%) 1.9788\n",
            "8m 55s (98000 98%) 1.9404\n",
            "9m 0s (99000 99%) 2.8772\n",
            "9m 5s (100000 100%) 3.1375\n"
          ]
        }
      ]
    },
    {
      "cell_type": "code",
      "source": [
        "import matplotlib.pyplot as plt\n",
        "\n",
        "plt.figure()\n",
        "plt.plot(all_losses)"
      ],
      "metadata": {
        "colab": {
          "base_uri": "https://localhost:8080/",
          "height": 448
        },
        "id": "qH6E3RFeridl",
        "outputId": "6e2f4ee0-c534-44c8-ecb8-eaad4dbdf0c7"
      },
      "execution_count": 33,
      "outputs": [
        {
          "output_type": "execute_result",
          "data": {
            "text/plain": [
              "[<matplotlib.lines.Line2D at 0x7c0f243f93c0>]"
            ]
          },
          "metadata": {},
          "execution_count": 33
        },
        {
          "output_type": "display_data",
          "data": {
            "text/plain": [
              "<Figure size 640x480 with 1 Axes>"
            ],
            "image/png": "[encoded data removed]"
          },
          "metadata": {}
        }
      ]
    },
    {
      "cell_type": "code",
      "source": [
        "max_length = 100\n",
        "\n",
        "# sample from a category and starting letter\n",
        "def sample(category, start_letter = 'A'):\n",
        "    with torch.no_grad():\n",
        "        cat_tensor = category_tensor(category).to('cuda')\n",
        "        in_tensor = input_tensor(start_letter).to('cuda')\n",
        "        hidden = rnn.init_hidden().to('cuda')\n",
        "\n",
        "        out_name = start_letter\n",
        "\n",
        "        for i in range(max_length):\n",
        "            out, hidden = rnn(cat_tensor, in_tensor[0], hidden)\n",
        "            topv, topi = out.topk(1)\n",
        "            topi = topi[0][0]\n",
        "            if (topi == (n_letters - 1)):\n",
        "                break\n",
        "\n",
        "            else:\n",
        "                letter = all_letters[topi]\n",
        "                out_name += letter\n",
        "            in_tensor = input_tensor(letter).to('cuda')\n",
        "    return out_name"
      ],
      "metadata": {
        "id": "ngZYy4jjvuFa"
      },
      "execution_count": 40,
      "outputs": []
    },
    {
      "cell_type": "code",
      "source": [
        "sample('Irish','A')"
      ],
      "metadata": {
        "colab": {
          "base_uri": "https://localhost:8080/",
          "height": 36
        },
        "id": "ZCCe6hMI5LWp",
        "outputId": "ee079cb7-fbbc-494a-b9f8-9eeee7ad1e99"
      },
      "execution_count": 41,
      "outputs": [
        {
          "output_type": "execute_result",
          "data": {
            "text/plain": [
              "'Alanan'"
            ],
            "application/vnd.google.colaboratory.intrinsic+json": {
              "type": "string"
            }
          },
          "metadata": {},
          "execution_count": 41
        }
      ]
    },
    {
      "cell_type": "code",
      "source": [
        "sample('Irish','A')"
      ],
      "metadata": {
        "colab": {
          "base_uri": "https://localhost:8080/",
          "height": 36
        },
        "id": "LPX2GUmd5N-u",
        "outputId": "2d10d7c1-f28f-4042-c0b4-325832b465ac"
      },
      "execution_count": 42,
      "outputs": [
        {
          "output_type": "execute_result",
          "data": {
            "text/plain": [
              "'Alana'"
            ],
            "application/vnd.google.colaboratory.intrinsic+json": {
              "type": "string"
            }
          },
          "metadata": {},
          "execution_count": 42
        }
      ]
    },
    {
      "cell_type": "code",
      "source": [
        "sample('Irish','A')"
      ],
      "metadata": {
        "colab": {
          "base_uri": "https://localhost:8080/",
          "height": 36
        },
        "id": "XrPrk2qU5clU",
        "outputId": "7768c3c4-4aeb-43e9-85a8-afc3490ba27e"
      },
      "execution_count": 43,
      "outputs": [
        {
          "output_type": "execute_result",
          "data": {
            "text/plain": [
              "'Alana'"
            ],
            "application/vnd.google.colaboratory.intrinsic+json": {
              "type": "string"
            }
          },
          "metadata": {},
          "execution_count": 43
        }
      ]
    },
    {
      "cell_type": "code",
      "source": [
        "sample('Irish','A')"
      ],
      "metadata": {
        "colab": {
          "base_uri": "https://localhost:8080/",
          "height": 36
        },
        "id": "eLE7PVxj5eS7",
        "outputId": "d77e5931-0177-49ca-8772-ed44449853f2"
      },
      "execution_count": 44,
      "outputs": [
        {
          "output_type": "execute_result",
          "data": {
            "text/plain": [
              "'Alanan'"
            ],
            "application/vnd.google.colaboratory.intrinsic+json": {
              "type": "string"
            }
          },
          "metadata": {},
          "execution_count": 44
        }
      ]
    },
    {
      "cell_type": "code",
      "source": [
        "sample('Irish','A')"
      ],
      "metadata": {
        "colab": {
          "base_uri": "https://localhost:8080/",
          "height": 36
        },
        "id": "2GIyEfOT5e9R",
        "outputId": "0e55fbce-b4a1-4579-8b26-e4c0ec149932"
      },
      "execution_count": 45,
      "outputs": [
        {
          "output_type": "execute_result",
          "data": {
            "text/plain": [
              "'Allin'"
            ],
            "application/vnd.google.colaboratory.intrinsic+json": {
              "type": "string"
            }
          },
          "metadata": {},
          "execution_count": 45
        }
      ]
    },
    {
      "cell_type": "code",
      "source": [
        "sample('Irish','A')"
      ],
      "metadata": {
        "colab": {
          "base_uri": "https://localhost:8080/",
          "height": 36
        },
        "id": "kFLjBr7a5jPI",
        "outputId": "1e99e11c-714d-48da-e84e-07be10b5467c"
      },
      "execution_count": 46,
      "outputs": [
        {
          "output_type": "execute_result",
          "data": {
            "text/plain": [
              "'Arana'"
            ],
            "application/vnd.google.colaboratory.intrinsic+json": {
              "type": "string"
            }
          },
          "metadata": {},
          "execution_count": 46
        }
      ]
    },
    {
      "cell_type": "code",
      "source": [
        "sample('Irish','A')"
      ],
      "metadata": {
        "colab": {
          "base_uri": "https://localhost:8080/",
          "height": 36
        },
        "id": "Zo-i5T2_5j96",
        "outputId": "304de13b-9408-4e48-e2e4-c5740645caff"
      },
      "execution_count": 47,
      "outputs": [
        {
          "output_type": "execute_result",
          "data": {
            "text/plain": [
              "'Allallan'"
            ],
            "application/vnd.google.colaboratory.intrinsic+json": {
              "type": "string"
            }
          },
          "metadata": {},
          "execution_count": 47
        }
      ]
    },
    {
      "cell_type": "code",
      "source": [
        "sample('English','A')"
      ],
      "metadata": {
        "colab": {
          "base_uri": "https://localhost:8080/",
          "height": 36
        },
        "id": "jbltMCd85kn2",
        "outputId": "7a768c8e-aa36-4acb-adc9-df54ade50fa8"
      },
      "execution_count": 48,
      "outputs": [
        {
          "output_type": "execute_result",
          "data": {
            "text/plain": [
              "'Allen'"
            ],
            "application/vnd.google.colaboratory.intrinsic+json": {
              "type": "string"
            }
          },
          "metadata": {},
          "execution_count": 48
        }
      ]
    },
    {
      "cell_type": "code",
      "source": [
        "sample('Irish','A')"
      ],
      "metadata": {
        "colab": {
          "base_uri": "https://localhost:8080/",
          "height": 36
        },
        "id": "LW9PTEYX5mRp",
        "outputId": "38b1da8a-3474-417e-d41f-55d5be85f2ef"
      },
      "execution_count": 49,
      "outputs": [
        {
          "output_type": "execute_result",
          "data": {
            "text/plain": [
              "'Alana'"
            ],
            "application/vnd.google.colaboratory.intrinsic+json": {
              "type": "string"
            }
          },
          "metadata": {},
          "execution_count": 49
        }
      ]
    },
    {
      "cell_type": "code",
      "source": [
        "sample('English','A')"
      ],
      "metadata": {
        "colab": {
          "base_uri": "https://localhost:8080/",
          "height": 36
        },
        "id": "Sg4Dh54l5m2B",
        "outputId": "72b39f37-8450-4e43-f2ae-7149330233d5"
      },
      "execution_count": 50,
      "outputs": [
        {
          "output_type": "execute_result",
          "data": {
            "text/plain": [
              "'Alan'"
            ],
            "application/vnd.google.colaboratory.intrinsic+json": {
              "type": "string"
            }
          },
          "metadata": {},
          "execution_count": 50
        }
      ]
    },
    {
      "cell_type": "code",
      "source": [
        "sample('English','A')"
      ],
      "metadata": {
        "colab": {
          "base_uri": "https://localhost:8080/",
          "height": 36
        },
        "id": "vqexb9JU5oIP",
        "outputId": "7377bc0a-daff-4ece-f950-fdeb9d2f416c"
      },
      "execution_count": 51,
      "outputs": [
        {
          "output_type": "execute_result",
          "data": {
            "text/plain": [
              "'Allen'"
            ],
            "application/vnd.google.colaboratory.intrinsic+json": {
              "type": "string"
            }
          },
          "metadata": {},
          "execution_count": 51
        }
      ]
    },
    {
      "cell_type": "code",
      "source": [],
      "metadata": {
        "id": "nXwqZOSD5ovh"
      },
      "execution_count": null,
      "outputs": []
    }
  ]
}